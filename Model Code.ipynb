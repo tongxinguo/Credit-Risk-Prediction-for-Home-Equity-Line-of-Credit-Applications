{
 "cells": [
  {
   "cell_type": "code",
   "execution_count": 1,
   "metadata": {
    "collapsed": true
   },
   "outputs": [],
   "source": [
    "import pandas as pd\n",
    "import numpy as np\n",
    "from pandas import DataFrame\n",
    "from sklearn.model_selection import train_test_split\n",
    "from sklearn.preprocessing import StandardScaler\n",
    "from sklearn.preprocessing import MinMaxScaler\n",
    "from sklearn.model_selection import GridSearchCV\n",
    "from sklearn.svm import SVC\n",
    "from sklearn.linear_model import LogisticRegression\n",
    "from sklearn.discriminant_analysis import LinearDiscriminantAnalysis\n",
    "from sklearn.neighbors import KNeighborsClassifier\n",
    "from sklearn.naive_bayes import GaussianNB\n",
    "from sklearn.tree import DecisionTreeClassifier\n",
    "from sklearn.discriminant_analysis import QuadraticDiscriminantAnalysis\n",
    "from sklearn.ensemble import RandomForestClassifier, AdaBoostClassifier\n",
    "from sklearn.metrics import mean_squared_error\n",
    "from sklearn import metrics\n",
    "from sklearn.metrics import roc_auc_score\n"
   ]
  },
  {
   "cell_type": "code",
   "execution_count": 2,
   "metadata": {
    "collapsed": true
   },
   "outputs": [],
   "source": [
    "file = pd.read_csv('heloc_dataset_v1.csv')"
   ]
  },
  {
   "cell_type": "code",
   "execution_count": 3,
   "metadata": {
    "scrolled": true
   },
   "outputs": [
    {
     "name": "stdout",
     "output_type": "stream",
     "text": [
      "RiskPerformance  -7: 0 0.0\n",
      "RiskPerformance  -8: 0 0.0\n",
      "RiskPerformance  -9: 0 0.0\n",
      "ExternalRiskEstimate  -7: 0 0.0\n",
      "ExternalRiskEstimate  -8: 0 0.0\n",
      "ExternalRiskEstimate  -9: 598 0.057175638206329475\n",
      "MSinceOldestTradeOpen  -7: 0 0.0\n",
      "MSinceOldestTradeOpen  -8: 239 0.022851132995506264\n",
      "MSinceOldestTradeOpen  -9: 588 0.056219523855053063\n",
      "MSinceMostRecentTradeOpen  -7: 0 0.0\n",
      "MSinceMostRecentTradeOpen  -8: 0 0.0\n",
      "MSinceMostRecentTradeOpen  -9: 588 0.056219523855053063\n",
      "AverageMInFile  -7: 0 0.0\n",
      "AverageMInFile  -8: 0 0.0\n",
      "AverageMInFile  -9: 588 0.056219523855053063\n",
      "NumSatisfactoryTrades  -7: 0 0.0\n",
      "NumSatisfactoryTrades  -8: 0 0.0\n",
      "NumSatisfactoryTrades  -9: 588 0.056219523855053063\n",
      "NumTrades60Ever2DerogPubRec  -7: 0 0.0\n",
      "NumTrades60Ever2DerogPubRec  -8: 0 0.0\n",
      "NumTrades60Ever2DerogPubRec  -9: 588 0.056219523855053063\n",
      "NumTrades90Ever2DerogPubRec  -7: 0 0.0\n",
      "NumTrades90Ever2DerogPubRec  -8: 0 0.0\n",
      "NumTrades90Ever2DerogPubRec  -9: 588 0.056219523855053063\n",
      "PercentTradesNeverDelq  -7: 0 0.0\n",
      "PercentTradesNeverDelq  -8: 0 0.0\n",
      "PercentTradesNeverDelq  -9: 588 0.056219523855053063\n",
      "MSinceMostRecentDelq  -7: 4664 0.4459317334353189\n",
      "MSinceMostRecentDelq  -8: 176 0.016827612582464863\n",
      "MSinceMostRecentDelq  -9: 588 0.056219523855053063\n",
      "MaxDelq2PublicRecLast12M  -7: 0 0.0\n",
      "MaxDelq2PublicRecLast12M  -8: 0 0.0\n",
      "MaxDelq2PublicRecLast12M  -9: 588 0.056219523855053063\n",
      "MaxDelqEver  -7: 0 0.0\n",
      "MaxDelqEver  -8: 0 0.0\n",
      "MaxDelqEver  -9: 588 0.056219523855053063\n",
      "NumTotalTrades  -7: 0 0.0\n",
      "NumTotalTrades  -8: 0 0.0\n",
      "NumTotalTrades  -9: 588 0.056219523855053063\n",
      "NumTradesOpeninLast12M  -7: 0 0.0\n",
      "NumTradesOpeninLast12M  -8: 0 0.0\n",
      "NumTradesOpeninLast12M  -9: 588 0.056219523855053063\n",
      "PercentInstallTrades  -7: 0 0.0\n",
      "PercentInstallTrades  -8: 0 0.0\n",
      "PercentInstallTrades  -9: 588 0.056219523855053063\n",
      "MSinceMostRecentInqexcl7days  -7: 1855 0.17735921216177455\n",
      "MSinceMostRecentInqexcl7days  -8: 476 0.045511043120757246\n",
      "MSinceMostRecentInqexcl7days  -9: 588 0.056219523855053063\n",
      "NumInqLast6M  -7: 0 0.0\n",
      "NumInqLast6M  -8: 0 0.0\n",
      "NumInqLast6M  -9: 588 0.056219523855053063\n",
      "NumInqLast6Mexcl7days  -7: 0 0.0\n",
      "NumInqLast6Mexcl7days  -8: 0 0.0\n",
      "NumInqLast6Mexcl7days  -9: 588 0.056219523855053063\n",
      "NetFractionRevolvingBurden  -7: 0 0.0\n",
      "NetFractionRevolvingBurden  -8: 186 0.017783726933741275\n",
      "NetFractionRevolvingBurden  -9: 588 0.056219523855053063\n",
      "NetFractionInstallBurden  -7: 0 0.0\n",
      "NetFractionInstallBurden  -8: 3419 0.3268954967014055\n",
      "NetFractionInstallBurden  -9: 588 0.056219523855053063\n",
      "NumRevolvingTradesWBalance  -7: 0 0.0\n",
      "NumRevolvingTradesWBalance  -8: 156 0.014915383879912038\n",
      "NumRevolvingTradesWBalance  -9: 588 0.056219523855053063\n",
      "NumInstallTradesWBalance  -7: 0 0.0\n",
      "NumInstallTradesWBalance  -8: 861 0.08232144564489913\n",
      "NumInstallTradesWBalance  -9: 588 0.056219523855053063\n",
      "NumBank2NatlTradesWHighUtilization  -7: 0 0.0\n",
      "NumBank2NatlTradesWHighUtilization  -8: 583 0.05574146667941486\n",
      "NumBank2NatlTradesWHighUtilization  -9: 588 0.056219523855053063\n",
      "PercentTradesWBalance  -7: 0 0.0\n",
      "PercentTradesWBalance  -8: 18 0.0017210058322975428\n",
      "PercentTradesWBalance  -9: 588 0.056219523855053063\n"
     ]
    }
   ],
   "source": [
    "# detect special values\n",
    "\n",
    "for i in file.columns:\n",
    "    count_7 = len(file[file[i] == -7])\n",
    "    print(i,' -7:',count_7,count_7/file.shape[0])\n",
    "    count_8 = len(file[file[i] == -8])\n",
    "    print(i,' -8:',count_8,count_8/file.shape[0])\n",
    "    count_9 = len(file[file[i] == -9])\n",
    "    print(i,' -9:',count_9,count_9/file.shape[0])"
   ]
  },
  {
   "cell_type": "code",
   "execution_count": 4,
   "metadata": {
    "collapsed": true,
    "scrolled": true
   },
   "outputs": [],
   "source": [
    "# delete all the rows which contain -9\n",
    "file = file.replace([-9], np.nan)\n",
    "file = file.dropna()\n",
    "# file.shape"
   ]
  },
  {
   "cell_type": "code",
   "execution_count": 5,
   "metadata": {
    "collapsed": true
   },
   "outputs": [],
   "source": [
    "X = file.copy().drop('RiskPerformance',axis = 1)\n",
    "# file_X.shape"
   ]
  },
  {
   "cell_type": "code",
   "execution_count": 6,
   "metadata": {
    "collapsed": true
   },
   "outputs": [],
   "source": [
    "y = file['RiskPerformance']\n",
    "# file_Y.shape\n"
   ]
  },
  {
   "cell_type": "code",
   "execution_count": 7,
   "metadata": {
    "collapsed": true
   },
   "outputs": [],
   "source": [
    "#categorical variable\n",
    "categorical_MaxDelq2PublicRecLast12M = pd.get_dummies(X['MaxDelq2PublicRecLast12M'])\n",
    "categorical_MaxDelqEver = pd.get_dummies(X['MaxDelqEver'])\n",
    "file_categorical = pd.concat((categorical_MaxDelq2PublicRecLast12M,categorical_MaxDelqEver),\n",
    "                             axis=1,ignore_index = True)"
   ]
  },
  {
   "cell_type": "code",
   "execution_count": 8,
   "metadata": {
    "collapsed": true
   },
   "outputs": [],
   "source": [
    "file_numeric = X.copy().drop(['MaxDelq2PublicRecLast12M','MaxDelqEver'],axis = 1)"
   ]
  },
  {
   "cell_type": "code",
   "execution_count": 9,
   "metadata": {
    "collapsed": true
   },
   "outputs": [],
   "source": [
    "X = pd.concat((file_numeric,file_categorical),axis = 1)"
   ]
  },
  {
   "cell_type": "code",
   "execution_count": 10,
   "metadata": {
    "collapsed": true
   },
   "outputs": [],
   "source": [
    "y = pd.factorize(y)[0]"
   ]
  },
  {
   "cell_type": "code",
   "execution_count": 11,
   "metadata": {
    "collapsed": true
   },
   "outputs": [],
   "source": [
    "# The function `init_classifiers` returns a list of classifiers to be trained on the datasets\n",
    "def init_classifiers():\n",
    "    return([(SVC(), model_names[0], param_grid_svc), \n",
    "            (LogisticRegression(), model_names[1], param_grid_logistic),\n",
    "            (KNeighborsClassifier(), model_names[2], param_grid_knn),\n",
    "            (GaussianNB(), model_names[3], param_grid_nb),\n",
    "            (DecisionTreeClassifier(), model_names[4], param_grid_tree),\n",
    "            (RandomForestClassifier(), model_names[6], param_grid_rf),\n",
    "            (AdaBoostClassifier(), model_names[7], param_grid_boost)\n",
    "           ])\n",
    "\n",
    "# 'model_names' contains the names  that we will use for the above classifiers\n",
    "model_names = ['SVM','LR','KNN','NB','Tree','QDA','RF','Boosting']\n",
    "\n",
    "# the training parameters of each model\n",
    "param_grid_svc = [{'C':[0.1,1],'kernel':['rbf','linear','poly'], 'max_iter':[-1],'random_state':[1]}]\n",
    "param_grid_logistic = [{'C':[0.1,1], 'penalty':['l1','l2'],'random_state':[1]}]\n",
    "param_grid_knn = [{},{'n_neighbors':[1,2,3,4]}]\n",
    "param_grid_nb = [{}]\n",
    "param_grid_tree = [{'random_state':[1]},{'criterion':['gini'], 'max_depth':[2,3,4], 'min_samples_split':[3,5],'random_state':[1]}]\n",
    "param_grid_rf = [{'random_state':[1]},{'n_estimators':[10,20,30],'max_features':[0.2, 0.3], 'bootstrap':[True],'random_state':[1]}]\n",
    "param_grid_boost = [{'random_state':[1]},{'n_estimators':[10,20,30],'learning_rate':[0.1,0.5,1],'random_state':[1]}]"
   ]
  },
  {
   "cell_type": "code",
   "execution_count": 12,
   "metadata": {
    "collapsed": true
   },
   "outputs": [],
   "source": [
    "def evaluate_model(X,Y,model, model_name, params):\n",
    "    #split training set and test set\n",
    "    np.random.seed(1)\n",
    "    X_train, X_test = train_test_split(X, test_size=0.25, random_state=1)\n",
    "    y_train, y_test = train_test_split(y, test_size=0.25, random_state=1)\n",
    "    \n",
    "    \n",
    "    #standard scaler\n",
    "    scaler = StandardScaler()\n",
    "    X_scaled_values = scaler.fit_transform(X_train)\n",
    "    X_test_scaled_values = scaler.transform(X_test)\n",
    "    \n",
    "    \n",
    "    grid_search = GridSearchCV(model, params, cv=3)\n",
    "    grid_search.fit(X_scaled_values,y_train)\n",
    "    \n",
    "    \n",
    "    #evaluation on test set\n",
    "    final_model = grid_search.best_estimator_\n",
    "    final_predictions = final_model.predict(X_test_scaled_values)\n",
    "    \n",
    "    lin_mse = mean_squared_error(y_test,final_predictions)\n",
    "    lin_rmse = np.sqrt(lin_mse)\n",
    "    \n",
    "    dic={}\n",
    "    dic['Classifier']= model_name\n",
    "    dic['Accuracy']= (y_test==final_predictions).mean()\n",
    "    dic['CV Score']= grid_search.best_score_\n",
    "    dic['Precision'] = metrics.precision_score(y_test,final_predictions, average='macro')\n",
    "    dic['Recall'] = metrics.recall_score(y_test,final_predictions, average='macro')\n",
    "    dic['RMSE'] = lin_rmse\n",
    "    dic['best estimator'] = final_model\n",
    "    \n",
    "    return dic\n",
    "    pass"
   ]
  },
  {
   "cell_type": "code",
   "execution_count": 13,
   "metadata": {
    "collapsed": true
   },
   "outputs": [],
   "source": [
    "import warnings\n",
    "warnings.filterwarnings('ignore')"
   ]
  },
  {
   "cell_type": "code",
   "execution_count": 14,
   "metadata": {
    "collapsed": true
   },
   "outputs": [],
   "source": [
    "classifiers = init_classifiers()\n",
    "res_list = []\n",
    "for m in range(len(classifiers)):\n",
    "    res_list.append(evaluate_model(X,y,classifiers[m][0],classifiers[m][1],classifiers[m][2]))\n",
    "df_model_comparison = pd.DataFrame(res_list)"
   ]
  },
  {
   "cell_type": "code",
   "execution_count": 15,
   "metadata": {
    "scrolled": true
   },
   "outputs": [
    {
     "data": {
      "text/html": [
       "<div>\n",
       "<style scoped>\n",
       "    .dataframe tbody tr th:only-of-type {\n",
       "        vertical-align: middle;\n",
       "    }\n",
       "\n",
       "    .dataframe tbody tr th {\n",
       "        vertical-align: top;\n",
       "    }\n",
       "\n",
       "    .dataframe thead th {\n",
       "        text-align: right;\n",
       "    }\n",
       "</style>\n",
       "<table border=\"1\" class=\"dataframe\">\n",
       "  <thead>\n",
       "    <tr style=\"text-align: right;\">\n",
       "      <th></th>\n",
       "      <th>Accuracy</th>\n",
       "      <th>CV Score</th>\n",
       "      <th>Classifier</th>\n",
       "      <th>Precision</th>\n",
       "      <th>RMSE</th>\n",
       "      <th>Recall</th>\n",
       "      <th>best estimator</th>\n",
       "    </tr>\n",
       "  </thead>\n",
       "  <tbody>\n",
       "    <tr>\n",
       "      <th>0</th>\n",
       "      <td>0.716139</td>\n",
       "      <td>0.734956</td>\n",
       "      <td>SVM</td>\n",
       "      <td>0.715432</td>\n",
       "      <td>0.532786</td>\n",
       "      <td>0.715691</td>\n",
       "      <td>SVC(C=1, cache_size=200, class_weight=None, co...</td>\n",
       "    </tr>\n",
       "    <tr>\n",
       "      <th>1</th>\n",
       "      <td>0.714517</td>\n",
       "      <td>0.735227</td>\n",
       "      <td>LR</td>\n",
       "      <td>0.713942</td>\n",
       "      <td>0.534306</td>\n",
       "      <td>0.714365</td>\n",
       "      <td>LogisticRegression(C=0.1, class_weight=None, d...</td>\n",
       "    </tr>\n",
       "    <tr>\n",
       "      <th>2</th>\n",
       "      <td>0.681671</td>\n",
       "      <td>0.690331</td>\n",
       "      <td>KNN</td>\n",
       "      <td>0.681944</td>\n",
       "      <td>0.564207</td>\n",
       "      <td>0.682434</td>\n",
       "      <td>KNeighborsClassifier(algorithm='auto', leaf_si...</td>\n",
       "    </tr>\n",
       "    <tr>\n",
       "      <th>3</th>\n",
       "      <td>0.552311</td>\n",
       "      <td>0.603381</td>\n",
       "      <td>NB</td>\n",
       "      <td>0.641582</td>\n",
       "      <td>0.669095</td>\n",
       "      <td>0.571129</td>\n",
       "      <td>GaussianNB(priors=None, var_smoothing=1e-09)</td>\n",
       "    </tr>\n",
       "    <tr>\n",
       "      <th>4</th>\n",
       "      <td>0.702758</td>\n",
       "      <td>0.714537</td>\n",
       "      <td>Tree</td>\n",
       "      <td>0.702086</td>\n",
       "      <td>0.545200</td>\n",
       "      <td>0.700793</td>\n",
       "      <td>DecisionTreeClassifier(class_weight=None, crit...</td>\n",
       "    </tr>\n",
       "    <tr>\n",
       "      <th>5</th>\n",
       "      <td>0.708435</td>\n",
       "      <td>0.726978</td>\n",
       "      <td>RF</td>\n",
       "      <td>0.707720</td>\n",
       "      <td>0.539968</td>\n",
       "      <td>0.706700</td>\n",
       "      <td>(DecisionTreeClassifier(class_weight=None, cri...</td>\n",
       "    </tr>\n",
       "    <tr>\n",
       "      <th>6</th>\n",
       "      <td>0.728710</td>\n",
       "      <td>0.735632</td>\n",
       "      <td>Boosting</td>\n",
       "      <td>0.728313</td>\n",
       "      <td>0.520855</td>\n",
       "      <td>0.728876</td>\n",
       "      <td>(DecisionTreeClassifier(class_weight=None, cri...</td>\n",
       "    </tr>\n",
       "  </tbody>\n",
       "</table>\n",
       "</div>"
      ],
      "text/plain": [
       "   Accuracy  CV Score Classifier  Precision      RMSE    Recall  \\\n",
       "0  0.716139  0.734956        SVM   0.715432  0.532786  0.715691   \n",
       "1  0.714517  0.735227         LR   0.713942  0.534306  0.714365   \n",
       "2  0.681671  0.690331        KNN   0.681944  0.564207  0.682434   \n",
       "3  0.552311  0.603381         NB   0.641582  0.669095  0.571129   \n",
       "4  0.702758  0.714537       Tree   0.702086  0.545200  0.700793   \n",
       "5  0.708435  0.726978         RF   0.707720  0.539968  0.706700   \n",
       "6  0.728710  0.735632   Boosting   0.728313  0.520855  0.728876   \n",
       "\n",
       "                                      best estimator  \n",
       "0  SVC(C=1, cache_size=200, class_weight=None, co...  \n",
       "1  LogisticRegression(C=0.1, class_weight=None, d...  \n",
       "2  KNeighborsClassifier(algorithm='auto', leaf_si...  \n",
       "3       GaussianNB(priors=None, var_smoothing=1e-09)  \n",
       "4  DecisionTreeClassifier(class_weight=None, crit...  \n",
       "5  (DecisionTreeClassifier(class_weight=None, cri...  \n",
       "6  (DecisionTreeClassifier(class_weight=None, cri...  "
      ]
     },
     "execution_count": 15,
     "metadata": {},
     "output_type": "execute_result"
    }
   ],
   "source": [
    "df_model_comparison "
   ]
  },
  {
   "cell_type": "code",
   "execution_count": 17,
   "metadata": {
    "collapsed": true,
    "scrolled": true
   },
   "outputs": [],
   "source": [
    "best_model = df_model_comparison.iloc[6]['best estimator']"
   ]
  },
  {
   "cell_type": "code",
   "execution_count": 18,
   "metadata": {},
   "outputs": [
    {
     "data": {
      "text/plain": [
       "AdaBoostClassifier(algorithm='SAMME.R', base_estimator=None, learning_rate=1.0,\n",
       "                   n_estimators=50, random_state=1)"
      ]
     },
     "execution_count": 18,
     "metadata": {},
     "output_type": "execute_result"
    }
   ],
   "source": [
    "best_model"
   ]
  },
  {
   "cell_type": "code",
   "execution_count": 19,
   "metadata": {},
   "outputs": [
    {
     "data": {
      "text/plain": [
       "DecisionTreeClassifier(class_weight=None, criterion='gini', max_depth=3,\n",
       "                       max_features=None, max_leaf_nodes=None,\n",
       "                       min_impurity_decrease=0.0, min_impurity_split=None,\n",
       "                       min_samples_leaf=1, min_samples_split=3,\n",
       "                       min_weight_fraction_leaf=0.0, presort=False,\n",
       "                       random_state=1, splitter='best')"
      ]
     },
     "execution_count": 19,
     "metadata": {},
     "output_type": "execute_result"
    }
   ],
   "source": [
    "Tree = df_model_comparison.iloc[4]['best estimator']\n",
    "Tree"
   ]
  },
  {
   "cell_type": "code",
   "execution_count": 20,
   "metadata": {},
   "outputs": [
    {
     "data": {
      "text/plain": [
       "SVC(C=1, cache_size=200, class_weight=None, coef0=0.0,\n",
       "    decision_function_shape='ovr', degree=3, gamma='auto_deprecated',\n",
       "    kernel='linear', max_iter=-1, probability=False, random_state=1,\n",
       "    shrinking=True, tol=0.001, verbose=False)"
      ]
     },
     "execution_count": 20,
     "metadata": {},
     "output_type": "execute_result"
    }
   ],
   "source": [
    "SVM = df_model_comparison.iloc[0]['best estimator']\n",
    "SVM"
   ]
  },
  {
   "cell_type": "code",
   "execution_count": 21,
   "metadata": {},
   "outputs": [
    {
     "data": {
      "text/plain": [
       "KNeighborsClassifier(algorithm='auto', leaf_size=30, metric='minkowski',\n",
       "                     metric_params=None, n_jobs=None, n_neighbors=5, p=2,\n",
       "                     weights='uniform')"
      ]
     },
     "execution_count": 21,
     "metadata": {},
     "output_type": "execute_result"
    }
   ],
   "source": [
    "KNN = df_model_comparison.iloc[2]['best estimator']\n",
    "KNN"
   ]
  },
  {
   "cell_type": "code",
   "execution_count": 22,
   "metadata": {},
   "outputs": [
    {
     "data": {
      "text/plain": [
       "RandomForestClassifier(bootstrap=True, class_weight=None, criterion='gini',\n",
       "                       max_depth=None, max_features=0.2, max_leaf_nodes=None,\n",
       "                       min_impurity_decrease=0.0, min_impurity_split=None,\n",
       "                       min_samples_leaf=1, min_samples_split=2,\n",
       "                       min_weight_fraction_leaf=0.0, n_estimators=30,\n",
       "                       n_jobs=None, oob_score=False, random_state=1, verbose=0,\n",
       "                       warm_start=False)"
      ]
     },
     "execution_count": 22,
     "metadata": {},
     "output_type": "execute_result"
    }
   ],
   "source": [
    "RF = df_model_comparison.iloc[5]['best estimator']\n",
    "RF"
   ]
  },
  {
   "cell_type": "code",
   "execution_count": 23,
   "metadata": {},
   "outputs": [
    {
     "data": {
      "text/plain": [
       "LogisticRegression(C=0.1, class_weight=None, dual=False, fit_intercept=True,\n",
       "                   intercept_scaling=1, l1_ratio=None, max_iter=100,\n",
       "                   multi_class='warn', n_jobs=None, penalty='l1',\n",
       "                   random_state=1, solver='warn', tol=0.0001, verbose=0,\n",
       "                   warm_start=False)"
      ]
     },
     "execution_count": 23,
     "metadata": {},
     "output_type": "execute_result"
    }
   ],
   "source": [
    "LR= df_model_comparison.iloc[1]['best estimator']\n",
    "LR"
   ]
  },
  {
   "cell_type": "code",
   "execution_count": null,
   "metadata": {
    "collapsed": true
   },
   "outputs": [],
   "source": []
  }
 ],
 "metadata": {
  "kernelspec": {
   "display_name": "Python 3",
   "language": "python",
   "name": "python3"
  },
  "language_info": {
   "codemirror_mode": {
    "name": "ipython",
    "version": 3
   },
   "file_extension": ".py",
   "mimetype": "text/x-python",
   "name": "python",
   "nbconvert_exporter": "python",
   "pygments_lexer": "ipython3",
   "version": "3.7.4"
  },
  "toc": {
   "base_numbering": 1,
   "nav_menu": {},
   "number_sections": false,
   "sideBar": false,
   "skip_h1_title": false,
   "title_cell": "Table of Contents",
   "title_sidebar": "Contents",
   "toc_cell": false,
   "toc_position": {},
   "toc_section_display": false,
   "toc_window_display": false
  }
 },
 "nbformat": 4,
 "nbformat_minor": 2
}
